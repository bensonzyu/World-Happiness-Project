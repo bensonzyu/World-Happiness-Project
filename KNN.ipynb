{
  "nbformat": 4,
  "nbformat_minor": 0,
  "metadata": {
    "colab": {
      "provenance": []
    },
    "kernelspec": {
      "name": "python3",
      "display_name": "Python 3"
    },
    "language_info": {
      "name": "python"
    }
  },
  "cells": [
    {
      "cell_type": "markdown",
      "source": [
        "# Data Cleaning and Exploration"
      ],
      "metadata": {
        "id": "CSN4_kw9tBHd"
      }
    },
    {
      "cell_type": "code",
      "execution_count": null,
      "metadata": {
        "colab": {
          "base_uri": "https://localhost:8080/",
          "height": 74
        },
        "id": "CTS-VXJ8O2Zq",
        "outputId": "21664ccc-0e9a-49c1-bc97-7efd7bcbab2c"
      },
      "outputs": [
        {
          "output_type": "display_data",
          "data": {
            "text/plain": [
              "<IPython.core.display.HTML object>"
            ],
            "text/html": [
              "\n",
              "     <input type=\"file\" id=\"files-33c57bff-3a80-40d2-8e01-c80c355c2dd4\" name=\"files[]\" multiple disabled\n",
              "        style=\"border:none\" />\n",
              "     <output id=\"result-33c57bff-3a80-40d2-8e01-c80c355c2dd4\">\n",
              "      Upload widget is only available when the cell has been executed in the\n",
              "      current browser session. Please rerun this cell to enable.\n",
              "      </output>\n",
              "      <script>// Copyright 2017 Google LLC\n",
              "//\n",
              "// Licensed under the Apache License, Version 2.0 (the \"License\");\n",
              "// you may not use this file except in compliance with the License.\n",
              "// You may obtain a copy of the License at\n",
              "//\n",
              "//      http://www.apache.org/licenses/LICENSE-2.0\n",
              "//\n",
              "// Unless required by applicable law or agreed to in writing, software\n",
              "// distributed under the License is distributed on an \"AS IS\" BASIS,\n",
              "// WITHOUT WARRANTIES OR CONDITIONS OF ANY KIND, either express or implied.\n",
              "// See the License for the specific language governing permissions and\n",
              "// limitations under the License.\n",
              "\n",
              "/**\n",
              " * @fileoverview Helpers for google.colab Python module.\n",
              " */\n",
              "(function(scope) {\n",
              "function span(text, styleAttributes = {}) {\n",
              "  const element = document.createElement('span');\n",
              "  element.textContent = text;\n",
              "  for (const key of Object.keys(styleAttributes)) {\n",
              "    element.style[key] = styleAttributes[key];\n",
              "  }\n",
              "  return element;\n",
              "}\n",
              "\n",
              "// Max number of bytes which will be uploaded at a time.\n",
              "const MAX_PAYLOAD_SIZE = 100 * 1024;\n",
              "\n",
              "function _uploadFiles(inputId, outputId) {\n",
              "  const steps = uploadFilesStep(inputId, outputId);\n",
              "  const outputElement = document.getElementById(outputId);\n",
              "  // Cache steps on the outputElement to make it available for the next call\n",
              "  // to uploadFilesContinue from Python.\n",
              "  outputElement.steps = steps;\n",
              "\n",
              "  return _uploadFilesContinue(outputId);\n",
              "}\n",
              "\n",
              "// This is roughly an async generator (not supported in the browser yet),\n",
              "// where there are multiple asynchronous steps and the Python side is going\n",
              "// to poll for completion of each step.\n",
              "// This uses a Promise to block the python side on completion of each step,\n",
              "// then passes the result of the previous step as the input to the next step.\n",
              "function _uploadFilesContinue(outputId) {\n",
              "  const outputElement = document.getElementById(outputId);\n",
              "  const steps = outputElement.steps;\n",
              "\n",
              "  const next = steps.next(outputElement.lastPromiseValue);\n",
              "  return Promise.resolve(next.value.promise).then((value) => {\n",
              "    // Cache the last promise value to make it available to the next\n",
              "    // step of the generator.\n",
              "    outputElement.lastPromiseValue = value;\n",
              "    return next.value.response;\n",
              "  });\n",
              "}\n",
              "\n",
              "/**\n",
              " * Generator function which is called between each async step of the upload\n",
              " * process.\n",
              " * @param {string} inputId Element ID of the input file picker element.\n",
              " * @param {string} outputId Element ID of the output display.\n",
              " * @return {!Iterable<!Object>} Iterable of next steps.\n",
              " */\n",
              "function* uploadFilesStep(inputId, outputId) {\n",
              "  const inputElement = document.getElementById(inputId);\n",
              "  inputElement.disabled = false;\n",
              "\n",
              "  const outputElement = document.getElementById(outputId);\n",
              "  outputElement.innerHTML = '';\n",
              "\n",
              "  const pickedPromise = new Promise((resolve) => {\n",
              "    inputElement.addEventListener('change', (e) => {\n",
              "      resolve(e.target.files);\n",
              "    });\n",
              "  });\n",
              "\n",
              "  const cancel = document.createElement('button');\n",
              "  inputElement.parentElement.appendChild(cancel);\n",
              "  cancel.textContent = 'Cancel upload';\n",
              "  const cancelPromise = new Promise((resolve) => {\n",
              "    cancel.onclick = () => {\n",
              "      resolve(null);\n",
              "    };\n",
              "  });\n",
              "\n",
              "  // Wait for the user to pick the files.\n",
              "  const files = yield {\n",
              "    promise: Promise.race([pickedPromise, cancelPromise]),\n",
              "    response: {\n",
              "      action: 'starting',\n",
              "    }\n",
              "  };\n",
              "\n",
              "  cancel.remove();\n",
              "\n",
              "  // Disable the input element since further picks are not allowed.\n",
              "  inputElement.disabled = true;\n",
              "\n",
              "  if (!files) {\n",
              "    return {\n",
              "      response: {\n",
              "        action: 'complete',\n",
              "      }\n",
              "    };\n",
              "  }\n",
              "\n",
              "  for (const file of files) {\n",
              "    const li = document.createElement('li');\n",
              "    li.append(span(file.name, {fontWeight: 'bold'}));\n",
              "    li.append(span(\n",
              "        `(${file.type || 'n/a'}) - ${file.size} bytes, ` +\n",
              "        `last modified: ${\n",
              "            file.lastModifiedDate ? file.lastModifiedDate.toLocaleDateString() :\n",
              "                                    'n/a'} - `));\n",
              "    const percent = span('0% done');\n",
              "    li.appendChild(percent);\n",
              "\n",
              "    outputElement.appendChild(li);\n",
              "\n",
              "    const fileDataPromise = new Promise((resolve) => {\n",
              "      const reader = new FileReader();\n",
              "      reader.onload = (e) => {\n",
              "        resolve(e.target.result);\n",
              "      };\n",
              "      reader.readAsArrayBuffer(file);\n",
              "    });\n",
              "    // Wait for the data to be ready.\n",
              "    let fileData = yield {\n",
              "      promise: fileDataPromise,\n",
              "      response: {\n",
              "        action: 'continue',\n",
              "      }\n",
              "    };\n",
              "\n",
              "    // Use a chunked sending to avoid message size limits. See b/62115660.\n",
              "    let position = 0;\n",
              "    do {\n",
              "      const length = Math.min(fileData.byteLength - position, MAX_PAYLOAD_SIZE);\n",
              "      const chunk = new Uint8Array(fileData, position, length);\n",
              "      position += length;\n",
              "\n",
              "      const base64 = btoa(String.fromCharCode.apply(null, chunk));\n",
              "      yield {\n",
              "        response: {\n",
              "          action: 'append',\n",
              "          file: file.name,\n",
              "          data: base64,\n",
              "        },\n",
              "      };\n",
              "\n",
              "      let percentDone = fileData.byteLength === 0 ?\n",
              "          100 :\n",
              "          Math.round((position / fileData.byteLength) * 100);\n",
              "      percent.textContent = `${percentDone}% done`;\n",
              "\n",
              "    } while (position < fileData.byteLength);\n",
              "  }\n",
              "\n",
              "  // All done.\n",
              "  yield {\n",
              "    response: {\n",
              "      action: 'complete',\n",
              "    }\n",
              "  };\n",
              "}\n",
              "\n",
              "scope.google = scope.google || {};\n",
              "scope.google.colab = scope.google.colab || {};\n",
              "scope.google.colab._files = {\n",
              "  _uploadFiles,\n",
              "  _uploadFilesContinue,\n",
              "};\n",
              "})(self);\n",
              "</script> "
            ]
          },
          "metadata": {}
        },
        {
          "output_type": "stream",
          "name": "stdout",
          "text": [
            "Saving 2016.csv to 2016.csv\n"
          ]
        }
      ],
      "source": [
        "# Data from 2016\n",
        "\n",
        "from google.colab import files\n",
        "uploaded = files.upload()\n",
        "import pandas as pd\n",
        "import numpy as np\n",
        "import matplotlib.pyplot as plt\n",
        "\n",
        "\n",
        "y2016 = pd.read_csv('2016.csv')\n",
        "\n",
        "y2016.drop(columns=['Country','Happiness Rank','Lower Confidence Interval', 'Upper Confidence Interval', 'Dystopia Residual'], inplace=True)\n",
        "\n",
        "y2016['Year'] = 2016\n",
        "\n",
        "y2016 = y2016[['Region','Happiness Score', 'Economy (GDP per Capita)','Family', 'Health (Life Expectancy)', 'Freedom','Trust (Government Corruption)','Generosity']]\n",
        "\n",
        "\n",
        "\n"
      ]
    },
    {
      "cell_type": "code",
      "source": [
        "y2016.head\n"
      ],
      "metadata": {
        "colab": {
          "base_uri": "https://localhost:8080/"
        },
        "id": "9QqaC83t24P8",
        "outputId": "ff6898da-8346-4303-abaa-22f28636329d"
      },
      "execution_count": null,
      "outputs": [
        {
          "output_type": "execute_result",
          "data": {
            "text/plain": [
              "<bound method NDFrame.head of                               Region  Happiness Score  \\\n",
              "0                     Western Europe            7.526   \n",
              "1                     Western Europe            7.509   \n",
              "2                     Western Europe            7.501   \n",
              "3                     Western Europe            7.498   \n",
              "4                     Western Europe            7.413   \n",
              "..                               ...              ...   \n",
              "152               Sub-Saharan Africa            3.484   \n",
              "153                    Southern Asia            3.360   \n",
              "154               Sub-Saharan Africa            3.303   \n",
              "155  Middle East and Northern Africa            3.069   \n",
              "156               Sub-Saharan Africa            2.905   \n",
              "\n",
              "     Economy (GDP per Capita)   Family  Health (Life Expectancy)  Freedom  \\\n",
              "0                     1.44178  1.16374                   0.79504  0.57941   \n",
              "1                     1.52733  1.14524                   0.86303  0.58557   \n",
              "2                     1.42666  1.18326                   0.86733  0.56624   \n",
              "3                     1.57744  1.12690                   0.79579  0.59609   \n",
              "4                     1.40598  1.13464                   0.81091  0.57104   \n",
              "..                        ...      ...                       ...      ...   \n",
              "152                   0.39499  0.10419                   0.21028  0.39747   \n",
              "153                   0.38227  0.11037                   0.17344  0.16430   \n",
              "154                   0.28123  0.00000                   0.24811  0.34678   \n",
              "155                   0.74719  0.14866                   0.62994  0.06912   \n",
              "156                   0.06831  0.23442                   0.15747  0.04320   \n",
              "\n",
              "     Trust (Government Corruption)  Generosity  \n",
              "0                          0.44453     0.36171  \n",
              "1                          0.41203     0.28083  \n",
              "2                          0.14975     0.47678  \n",
              "3                          0.35776     0.37895  \n",
              "4                          0.41004     0.25492  \n",
              "..                             ...         ...  \n",
              "152                        0.06681     0.20180  \n",
              "153                        0.07112     0.31268  \n",
              "154                        0.11587     0.17517  \n",
              "155                        0.17233     0.48397  \n",
              "156                        0.09419     0.20290  \n",
              "\n",
              "[157 rows x 8 columns]>"
            ]
          },
          "metadata": {},
          "execution_count": 2
        }
      ]
    },
    {
      "cell_type": "code",
      "source": [
        "#setting region as the target variable\n",
        "characteristics = y2016.columns.drop('Region')\n",
        "target = 'Region'\n",
        "\n",
        "print('Characteristics: ', characteristics)\n",
        "print('Target: ', target)"
      ],
      "metadata": {
        "id": "ZAlfgcPY6odx",
        "colab": {
          "base_uri": "https://localhost:8080/"
        },
        "outputId": "487a5b48-2533-4016-8282-66cb105ef03f"
      },
      "execution_count": null,
      "outputs": [
        {
          "output_type": "stream",
          "name": "stdout",
          "text": [
            "Characteristics:  Index(['Happiness Score', 'Economy (GDP per Capita)', 'Family',\n",
            "       'Health (Life Expectancy)', 'Freedom', 'Trust (Government Corruption)',\n",
            "       'Generosity'],\n",
            "      dtype='object')\n",
            "Target:  Region\n"
          ]
        }
      ]
    },
    {
      "cell_type": "code",
      "source": [
        "#Bar graph showing the amount of samples for each region \n",
        "import matplotlib.pyplot as plt\n",
        "%matplotlib inline\n",
        "\n",
        "y2016[target].value_counts().plot.bar()\n",
        "plt.show()\n"
      ],
      "metadata": {
        "colab": {
          "base_uri": "https://localhost:8080/",
          "height": 415
        },
        "id": "0kHuF9K_YIp0",
        "outputId": "79b544fb-906a-4d44-a867-fadd9c9c8f19"
      },
      "execution_count": null,
      "outputs": [
        {
          "output_type": "display_data",
          "data": {
            "text/plain": [
              "<Figure size 432x288 with 1 Axes>"
            ],
            "image/png": "[encoded data removed]"
          },
          "metadata": {
            "needs_background": "light"
          }
        }
      ]
    },
    {
      "cell_type": "code",
      "source": [
        "print('Data set shape:', y2016.shape)\n",
        "\n",
        "print('Western Europe:', sum(y2016[target] == 'Western Europe'))\n",
        "print('North America:', sum(y2016[target] == 'North America'))\n",
        "print('Middle East and Northern Africa:', sum(y2016[target] == 'Middle East and Northern Africa'))\n",
        "print('Latin America and Caribbean :', sum(y2016[target] == 'Latin America and Caribbean'))\n",
        "print('Central and Eastern Europe :', sum(y2016[target] == 'Central and Eastern Europe'))\n",
        "print('Eastern Asia :', sum(y2016[target] == 'Eastern Asia'))\n",
        "print('Southeastern Asia :', sum(y2016[target] == 'Southeastern Asia'))\n",
        "print('Australia and New Zealand :', sum(y2016[target] == 'Australia and New Zealand'))\n",
        "print('Sub-Saharan Africa :', sum(y2016[target] == 'Sub-Saharan Africa'))\n",
        "print('Southern Asia:', sum(y2016[target] == 'Southern Asia'))\n",
        "#Shows the amount of points in each sample"
      ],
      "metadata": {
        "colab": {
          "base_uri": "https://localhost:8080/"
        },
        "id": "4353hlYuYPrL",
        "outputId": "b26533f7-a111-40b9-ab40-bbcb6e636492"
      },
      "execution_count": null,
      "outputs": [
        {
          "output_type": "stream",
          "name": "stdout",
          "text": [
            "Data set shape: (157, 8)\n",
            "Western Europe: 21\n",
            "North America: 2\n",
            "Middle East and Northern Africa: 19\n",
            "Latin America and Caribbean : 24\n",
            "Central and Eastern Europe : 29\n",
            "Eastern Asia : 6\n",
            "Southeastern Asia : 9\n",
            "Australia and New Zealand : 2\n",
            "Sub-Saharan Africa : 38\n",
            "Southern Asia: 7\n"
          ]
        }
      ]
    },
    {
      "cell_type": "code",
      "source": [
        "#Upsampling the data to 38 points. From https://k-thorson.medium.com/k-nearest-neighbors-world-happiness-index-2021-96a6f4b2e70\n",
        "from sklearn.utils import shuffle\n",
        "Western_Europe = y2016[y2016[target] == 'Western Europe']\n",
        "North_America = y2016[y2016[target] == 'North America']\n",
        "Middle_East_and_Northern_Africa = y2016[y2016[target] == 'Middle East and Northern Africa']\n",
        "LatinAmerica_and_Caribbean = y2016[y2016[target] == 'Latin America and Caribbean']\n",
        "Central_and_Eastern_Europe = y2016[y2016[target] == 'Central and Eastern Europe']\n",
        "Eastern_Asia = y2016[y2016[target] == 'Eastern Asia']\n",
        "Southeastern_Asia = y2016[y2016[target] == 'Southeastern Asia']\n",
        "Australia_and_New_Zealand = y2016[y2016[target] == 'Australia and New Zealand']\n",
        "SubSaharan_Africa = y2016[y2016[target] == 'Sub-Saharan Africa']\n",
        "Southern_Asia = y2016[y2016[target] == 'Southern Asia']\n",
        "\n",
        "WE = Western_Europe.sample(n=len(SubSaharan_Africa), replace=True)\n",
        "NA = North_America.sample(n=len(SubSaharan_Africa), replace=True)\n",
        "MENA = Middle_East_and_Northern_Africa.sample(n=len(SubSaharan_Africa), replace=True)\n",
        "LAC = LatinAmerica_and_Caribbean.sample(n=len(SubSaharan_Africa), replace=True)\n",
        "CEE = Central_and_Eastern_Europe.sample(n=len(SubSaharan_Africa), replace=True)\n",
        "EA = Eastern_Asia.sample(n=len(SubSaharan_Africa), replace=True)\n",
        "SEA = Southeastern_Asia.sample(n=len(SubSaharan_Africa), replace=True)\n",
        "ANZ = Australia_and_New_Zealand.sample(n=len(SubSaharan_Africa), replace=True)\n",
        "SA = Southern_Asia.sample(n=len(SubSaharan_Africa), replace=True)\n",
        "\n",
        "\n",
        "upsampled = pd.concat([SubSaharan_Africa, WE, NA, MENA, LAC,\n",
        "                         CEE, EA, SEA,ANZ, SA])\n",
        "upsampled = shuffle(upsampled)"
      ],
      "metadata": {
        "id": "tp5ekgPUYiww"
      },
      "execution_count": null,
      "outputs": []
    },
    {
      "cell_type": "markdown",
      "source": [
        "# KNN Classification Model"
      ],
      "metadata": {
        "id": "DvnnY53kti8h"
      }
    },
    {
      "cell_type": "code",
      "source": [
        "#Finding the optimal K value using a rule of thumb https://towardsdatascience.com/how-to-find-the-optimal-value-of-k-in-knn-35d936e554eb#:~:text=The%20optimal%20K%20value%20usually,the%20most%20favorable%20K%20value.\n",
        "from sklearn.preprocessing import MinMaxScaler\n",
        "from sklearn.neighbors import KNeighborsClassifier\n",
        "import math \n",
        "scaler = MinMaxScaler()\n",
        "upsampled[characteristics] = scaler.fit_transform(upsampled[characteristics])\n",
        "X_train = upsampled[characteristics]\n",
        "y_train = upsampled[target]\n",
        "K_value = math.sqrt(157)\n",
        "print(\"Optimal K-value:\",K_value)\n"
      ],
      "metadata": {
        "colab": {
          "base_uri": "https://localhost:8080/"
        },
        "id": "Vg5uv0t2mJ8T",
        "outputId": "41cfd6e1-386b-438c-e62c-33b22851fc57"
      },
      "execution_count": null,
      "outputs": [
        {
          "output_type": "stream",
          "name": "stdout",
          "text": [
            "Optimal K-value: 12.529964086141668\n"
          ]
        }
      ]
    },
    {
      "cell_type": "code",
      "source": [
        "from sklearn.metrics import confusion_matrix, classification_report, accuracy_score, f1_score\n",
        "\n",
        "#Predictions and score using the optimal K value rounded up to 13\n",
        "classifier = KNeighborsClassifier(n_neighbors = 13)\n",
        "classifier.fit(X_train, y_train)\n",
        "predictions = classifier.predict(X_train)\n",
        "\n",
        "print(classification_report(y_train, predictions))\n",
        "print(\"Train accuracy:\", accuracy_score(y_train, predictions))"
      ],
      "metadata": {
        "colab": {
          "base_uri": "https://localhost:8080/"
        },
        "id": "iOVLdKmIbl9Q",
        "outputId": "cc8ae71d-8b05-458f-fc47-9627ab8a30b5"
      },
      "execution_count": null,
      "outputs": [
        {
          "output_type": "stream",
          "name": "stdout",
          "text": [
            "                                 precision    recall  f1-score   support\n",
            "\n",
            "      Australia and New Zealand       0.88      1.00      0.94        38\n",
            "     Central and Eastern Europe       0.68      0.66      0.67        38\n",
            "                   Eastern Asia       0.66      1.00      0.79        38\n",
            "    Latin America and Caribbean       0.71      0.84      0.77        38\n",
            "Middle East and Northern Africa       0.80      0.63      0.71        38\n",
            "                  North America       0.76      1.00      0.86        38\n",
            "              Southeastern Asia       0.91      0.79      0.85        38\n",
            "                  Southern Asia       0.77      0.87      0.81        38\n",
            "             Sub-Saharan Africa       0.88      0.76      0.82        38\n",
            "                 Western Europe       1.00      0.21      0.35        38\n",
            "\n",
            "                       accuracy                           0.78       380\n",
            "                      macro avg       0.80      0.78      0.76       380\n",
            "                   weighted avg       0.80      0.78      0.76       380\n",
            "\n",
            "Train accuracy: 0.7763157894736842\n"
          ]
        }
      ]
    },
    {
      "cell_type": "code",
      "source": [],
      "metadata": {
        "id": "p2pPiHHreB9H"
      },
      "execution_count": null,
      "outputs": []
    }
  ]
}